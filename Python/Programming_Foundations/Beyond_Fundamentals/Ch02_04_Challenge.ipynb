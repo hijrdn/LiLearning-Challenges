{
 "cells": [
  {
   "cell_type": "code",
   "execution_count": null,
   "id": "5fa9335e-a412-4de4-9624-86795ae563af",
   "metadata": {},
   "outputs": [],
   "source": [
    "</> Iterating a For Loop\n",
    "\n",
    "# Take a list of fruits; print \"Our fruit selection:\", and then print out each fruit on it's own line."
   ]
  },
  {
   "cell_type": "code",
   "execution_count": null,
   "id": "13eee0d4-cea6-495f-b9b6-895571dcf2f0",
   "metadata": {},
   "outputs": [],
   "source": [
    "# Original Code Stub\n",
    "\n",
    "# A list of fruits\n",
    "fruits = ['apples','bananas','dragon fruit','mangos','nectarines','pears',]"
   ]
  },
  {
   "cell_type": "code",
   "execution_count": 4,
   "id": "c4b768b3-4744-42c5-adaf-d1c00edee88b",
   "metadata": {},
   "outputs": [
    {
     "name": "stdout",
     "output_type": "stream",
     "text": [
      "Our fruit selection:\n"
     ]
    }
   ],
   "source": [
    "# Step 1 - print the opening text\n",
    "\n",
    "# A list of fruits\n",
    "fruits = ['apples','bananas','dragon fruit','mangos','nectarines','pears',]\n",
    "\n",
    "print(\"Our fruit selection:\")"
   ]
  },
  {
   "cell_type": "code",
   "execution_count": 5,
   "id": "6f3ef032-d08c-4a1f-898d-947541ff897b",
   "metadata": {},
   "outputs": [
    {
     "name": "stdout",
     "output_type": "stream",
     "text": [
      "Our fruit selection:\n",
      "['apples', 'bananas', 'dragon fruit', 'mangos', 'nectarines', 'pears']\n"
     ]
    }
   ],
   "source": [
    "# Step 2 - add a line to print the list\n",
    "\n",
    "# A list of fruits\n",
    "fruits = ['apples','bananas','dragon fruit','mangos','nectarines','pears',]\n",
    "\n",
    "print(\"Our fruit selection:\")\n",
    "print(fruits)"
   ]
  },
  {
   "cell_type": "code",
   "execution_count": 1,
   "id": "19f3aacb-1b2f-4343-ac53-66eab310ed0b",
   "metadata": {},
   "outputs": [
    {
     "name": "stdout",
     "output_type": "stream",
     "text": [
      "Our fruit selection:\n",
      "['apples', 'bananas', 'dragon fruit', 'mangos', 'nectarines', 'pears']\n",
      "['apples', 'bananas', 'dragon fruit', 'mangos', 'nectarines', 'pears']\n",
      "['apples', 'bananas', 'dragon fruit', 'mangos', 'nectarines', 'pears']\n",
      "['apples', 'bananas', 'dragon fruit', 'mangos', 'nectarines', 'pears']\n",
      "['apples', 'bananas', 'dragon fruit', 'mangos', 'nectarines', 'pears']\n",
      "['apples', 'bananas', 'dragon fruit', 'mangos', 'nectarines', 'pears']\n"
     ]
    }
   ],
   "source": [
    "# Step 3 - add a for loop\n",
    "\n",
    "# A list of fruits\n",
    "fruits = ['apples','bananas','dragon fruit','mangos','nectarines','pears',]\n",
    "\n",
    "print(\"Our fruit selection:\")\n",
    "for fruit in fruits:\n",
    "    print(fruits)"
   ]
  },
  {
   "cell_type": "code",
   "execution_count": 2,
   "id": "5c9c12c8-aaa8-47a6-bc70-c1d8c8e24208",
   "metadata": {},
   "outputs": [
    {
     "name": "stdout",
     "output_type": "stream",
     "text": [
      "Our fruit selection:\n",
      "apples\n",
      "bananas\n",
      "dragon fruit\n",
      "mangos\n",
      "nectarines\n",
      "pears\n"
     ]
    }
   ],
   "source": [
    "# Step 4 - change looped print to the item in list variable\n",
    "\n",
    "# A list of fruits\n",
    "fruits = ['apples','bananas','dragon fruit','mangos','nectarines','pears',]\n",
    "\n",
    "print(\"Our fruit selection:\")\n",
    "for fruit in fruits:\n",
    "    print(fruit)"
   ]
  },
  {
   "cell_type": "code",
   "execution_count": null,
   "id": "9084c76c-e6cc-428f-9ebd-a4a020ec2f37",
   "metadata": {},
   "outputs": [],
   "source": [
    "#Yay! All done"
   ]
  }
 ],
 "metadata": {
  "kernelspec": {
   "display_name": "Python 3 (ipykernel)",
   "language": "python",
   "name": "python3"
  },
  "language_info": {
   "codemirror_mode": {
    "name": "ipython",
    "version": 3
   },
   "file_extension": ".py",
   "mimetype": "text/x-python",
   "name": "python",
   "nbconvert_exporter": "python",
   "pygments_lexer": "ipython3",
   "version": "3.12.5"
  }
 },
 "nbformat": 4,
 "nbformat_minor": 5
}
