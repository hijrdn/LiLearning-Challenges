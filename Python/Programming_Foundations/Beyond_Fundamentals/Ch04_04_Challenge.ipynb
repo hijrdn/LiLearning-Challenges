{
 "cells": [
  {
   "cell_type": "code",
   "execution_count": null,
   "id": "62513d35-5015-4692-8eba-cedbe0554d62",
   "metadata": {},
   "outputs": [],
   "source": [
    "</> Converting Miles to Kilometers\n",
    "\n",
    "Take a user value, convert to km, add text description to result"
   ]
  },
  {
   "cell_type": "code",
   "execution_count": 1,
   "id": "e095c3b3-cfe9-46bc-aa7e-583055b78c0a",
   "metadata": {
    "scrolled": true
   },
   "outputs": [
    {
     "name": "stdin",
     "output_type": "stream",
     "text": [
      "Enter a distance in miles:  5\n"
     ]
    }
   ],
   "source": [
    "# Original Code Stub\n",
    "\n",
    "miles = input('Enter a distance in miles: ')\n",
    "# kilometers_value = miles_value * 1.609344"
   ]
  },
  {
   "cell_type": "code",
   "execution_count": 2,
   "id": "20bc279a-ff46-4110-bd7a-e63688c633ed",
   "metadata": {},
   "outputs": [
    {
     "name": "stdin",
     "output_type": "stream",
     "text": [
      "Enter a distance in miles:  5\n"
     ]
    },
    {
     "name": "stdout",
     "output_type": "stream",
     "text": [
      "5\n"
     ]
    }
   ],
   "source": [
    "# Step 1 - add a print statement to return something\n",
    "miles = input('Enter a distance in miles: ')\n",
    "# kilometers_value = miles_value * 1.609344\n",
    "\n",
    "print(miles)"
   ]
  },
  {
   "cell_type": "code",
   "execution_count": 4,
   "id": "fef80272-2c9b-4f8b-b20a-5882dedb292e",
   "metadata": {},
   "outputs": [
    {
     "name": "stdin",
     "output_type": "stream",
     "text": [
      "Enter a distance in miles:  5\n"
     ]
    },
    {
     "name": "stdout",
     "output_type": "stream",
     "text": [
      "5\n"
     ]
    }
   ],
   "source": [
    "# Step 2 - convert miles input to a float\n",
    "\n",
    "miles = input('Enter a distance in miles: ')\n",
    "# kilometers_value = miles_value * 1.609344\n",
    "\n",
    "mi_value = float(miles)\n",
    "print(miles)"
   ]
  },
  {
   "cell_type": "code",
   "execution_count": 5,
   "id": "7fd1e735-a9d4-4af0-a105-9dc3663bd172",
   "metadata": {},
   "outputs": [
    {
     "name": "stdin",
     "output_type": "stream",
     "text": [
      "Enter a distance in miles:  5\n"
     ]
    },
    {
     "name": "stdout",
     "output_type": "stream",
     "text": [
      "8.04672\n"
     ]
    }
   ],
   "source": [
    "# Step 3 - create a variable which returns miles by multiplier\n",
    "\n",
    "miles = input('Enter a distance in miles: ')\n",
    "# kilometers_value = miles_value * 1.609344\n",
    "\n",
    "km_value = mi_value * 1.609344\n",
    "print(km_value)"
   ]
  },
  {
   "cell_type": "code",
   "execution_count": 6,
   "id": "3a0d3fc1-b37e-4cab-9aca-30875fb3d150",
   "metadata": {},
   "outputs": [
    {
     "name": "stdin",
     "output_type": "stream",
     "text": [
      "Enter a distance in miles:  5\n"
     ]
    },
    {
     "name": "stdout",
     "output_type": "stream",
     "text": [
      "5 miles is the same as 8.04672 kilometers\n"
     ]
    }
   ],
   "source": [
    "# Step 4 - return a text description about the conversion.\n",
    "\n",
    "miles = input('Enter a distance in miles: ')\n",
    "# kilometers_value = miles_value * 1.609344\n",
    "\n",
    "km_value = mi_value * 1.609344\n",
    "print(f\"{miles} miles is the same as {km_value} kilometers\")"
   ]
  },
  {
   "cell_type": "code",
   "execution_count": null,
   "id": "6d22a4d0-436f-4929-b3e2-3f21314b71c4",
   "metadata": {},
   "outputs": [],
   "source": []
  }
 ],
 "metadata": {
  "kernelspec": {
   "display_name": "Python 3 (ipykernel)",
   "language": "python",
   "name": "python3"
  },
  "language_info": {
   "codemirror_mode": {
    "name": "ipython",
    "version": 3
   },
   "file_extension": ".py",
   "mimetype": "text/x-python",
   "name": "python",
   "nbconvert_exporter": "python",
   "pygments_lexer": "ipython3",
   "version": "3.12.5"
  }
 },
 "nbformat": 4,
 "nbformat_minor": 5
}
