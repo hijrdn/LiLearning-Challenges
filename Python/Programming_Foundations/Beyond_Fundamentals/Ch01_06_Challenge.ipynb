{
 "cells": [
  {
   "cell_type": "code",
   "execution_count": null,
   "id": "5fa9335e-a412-4de4-9624-86795ae563af",
   "metadata": {},
   "outputs": [],
   "source": [
    "</> Searching a Collection List"
   ]
  },
  {
   "cell_type": "code",
   "execution_count": null,
   "id": "13eee0d4-cea6-495f-b9b6-895571dcf2f0",
   "metadata": {},
   "outputs": [],
   "source": [
    "# Original Code Stub\n",
    "\n",
    "# Nearest stars to Earth\n",
    "star1 = 'Sol'\n",
    "star2 = 'Alpha Centauri'\n",
    "star3 = 'Barnard'\n",
    "star4 = 'Wolf 359'\n",
    "\n",
    "# Highest peak on each tectonic plate\n",
    "African = 'Kilimanjaro'\n",
    "Antarctic = 'Vinson'\n",
    "Australian = 'Puncak Jaya'\n",
    "Eurasian = 'Everest'\n",
    "North_American = 'Denali'\n",
    "Pacific = 'Mauna Kea'\n",
    "South_American = 'Aconcagua'"
   ]
  },
  {
   "cell_type": "code",
   "execution_count": 1,
   "id": "c4b768b3-4744-42c5-adaf-d1c00edee88b",
   "metadata": {},
   "outputs": [
    {
     "name": "stdout",
     "output_type": "stream",
     "text": [
      "Wolf 359\n"
     ]
    }
   ],
   "source": [
    "# Mission 1 - Find the 4th closest star to Earth\n",
    "\n",
    "# rewrite variables as list\n",
    "stars = ['Sol', 'Alpha Centauri', 'Barnard', 'Wolf 359',]\n",
    "\n",
    "print(stars[3])"
   ]
  },
  {
   "cell_type": "code",
   "execution_count": 2,
   "id": "6f3ef032-d08c-4a1f-898d-947541ff897b",
   "metadata": {},
   "outputs": [
    {
     "name": "stdout",
     "output_type": "stream",
     "text": [
      "Mauna Kea\n"
     ]
    }
   ],
   "source": [
    "# Mission 2 - Find the highest peak on the Pacific plate\n",
    "\n",
    "# rewrite variables as dictionary\n",
    "peaks = {'African': 'Kilimanjaro', 'Antarctic': 'Vinson',\n",
    "'Australian': 'Puncak Jaya', 'Eurasian': 'Everest',\n",
    "'North_American': 'Denali', 'Pacific': 'Mauna Kea',\n",
    "'South_American': 'Aconcagua',}\n",
    "\n",
    "print(peaks['Pacific'])\n"
   ]
  },
  {
   "cell_type": "code",
   "execution_count": 3,
   "id": "19f3aacb-1b2f-4343-ac53-66eab310ed0b",
   "metadata": {},
   "outputs": [
    {
     "name": "stdout",
     "output_type": "stream",
     "text": [
      "Wolf 359\n",
      "Mauna Kea\n"
     ]
    }
   ],
   "source": [
    "# Mission 3 - combine revised code for a single script\n",
    "\n",
    "# rewrite variables as list\n",
    "stars = ['Sol', 'Alpha Centauri', 'Barnard', 'Wolf 359',]\n",
    "\n",
    "peaks = {'African': 'Kilimanjaro', 'Antarctic': 'Vinson',\n",
    "'Australian': 'Puncak Jaya', 'Eurasian': 'Everest',\n",
    "'North_American': 'Denali', 'Pacific': 'Mauna Kea',\n",
    "'South_American': 'Aconcagua',}\n",
    "\n",
    "print(stars[3])\n",
    "print(peaks['Pacific'])"
   ]
  },
  {
   "cell_type": "code",
   "execution_count": null,
   "id": "5c9c12c8-aaa8-47a6-bc70-c1d8c8e24208",
   "metadata": {},
   "outputs": [],
   "source": []
  }
 ],
 "metadata": {
  "kernelspec": {
   "display_name": "Python 3 (ipykernel)",
   "language": "python",
   "name": "python3"
  },
  "language_info": {
   "codemirror_mode": {
    "name": "ipython",
    "version": 3
   },
   "file_extension": ".py",
   "mimetype": "text/x-python",
   "name": "python",
   "nbconvert_exporter": "python",
   "pygments_lexer": "ipython3",
   "version": "3.12.5"
  }
 },
 "nbformat": 4,
 "nbformat_minor": 5
}
